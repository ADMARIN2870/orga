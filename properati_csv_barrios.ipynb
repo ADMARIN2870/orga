{
 "cells": [
  {
   "cell_type": "markdown",
   "metadata": {},
   "source": [
    "Hay propiedades que tienen como barrio capital federal, vamos a tratar de descubrir el barrio a través de la descripcion\n",
    "y guardarlo asi"
   ]
  },
  {
   "cell_type": "code",
   "execution_count": 20,
   "metadata": {
    "collapsed": true
   },
   "outputs": [],
   "source": [
    "import pandas as pd\n",
    "import numpy as np\n",
    "import seaborn as sns\n",
    "import matplotlib.pyplot as plt\n",
    "from mpl_toolkits.basemap import Basemap\n",
    "from pandas import Series\n",
    "%matplotlib inline"
   ]
  },
  {
   "cell_type": "code",
   "execution_count": 21,
   "metadata": {
    "collapsed": true
   },
   "outputs": [],
   "source": [
    "import unicodedata\n",
    "def eliminar_signos(text):\n",
    "    return ''.join([i if ord(i) < 128 else ' ' for i in text])\n",
    "def eliminar_tildes(s):\n",
    "    return ''.join((c for c in unicodedata.normalize('NFD', s) if unicodedata.category(c) != 'Mn'))\n",
    "\n",
    "def unificate_description(d):\n",
    "    if(pd.notnull(d)):\n",
    "        return eliminar_signos(eliminar_tildes(d).lower())\n",
    "    return d\n",
    "    "
   ]
  },
  {
   "cell_type": "code",
   "execution_count": 44,
   "metadata": {
    "collapsed": true
   },
   "outputs": [],
   "source": [
    "properati_filtered= pd.read_csv('../tp1/properati_filtered1.csv',encoding='UTF-8')\n"
   ]
  },
  {
   "cell_type": "code",
   "execution_count": 89,
   "metadata": {
    "collapsed": true
   },
   "outputs": [],
   "source": [
    "properati_filtered.description = properati_filtered.description.map(lambda d: unificate_description(d)) "
   ]
  },
  {
   "cell_type": "code",
   "execution_count": 90,
   "metadata": {},
   "outputs": [
    {
     "data": {
      "text/plain": [
       "0        en exclusivaen muy linda casa, luminosa, en lo...\n",
       "1        hermoso monoambiente en el condominio del hote...\n",
       "2        local en venta a estrenar, planta baja 150 m2 ...\n",
       "3        la propiedad cuenta con entrada exclusiva desd...\n",
       "4        edificio de muy buena categoria emplazado sobr...\n",
       "5        departamento de 3 ambientes con terraza a la v...\n",
       "6        venta de departamento 3 ambientessup total: 55...\n",
       "7        venta de departamento 3 ambientessup total: 55...\n",
       "8        monoambiente en puerto madero.    consultar di...\n",
       "9        se trata de un local comercial ubicado sobre c...\n",
       "10       lindisima casa en la alamedala casa tiene piso...\n",
       "11       monoambiente, amplio, luminoso, hall de recepc...\n",
       "12       importante emprendimiento en pleno belgrano er...\n",
       "13       venta de departamento 2 ambientes con renta y ...\n",
       "14       venta de departamento monoambiente en san cris...\n",
       "15       venta de departamento monoambiente en san cris...\n",
       "16       venta de departamento 2 ambientes en barrio no...\n",
       "17       venta de departamento monoambiente en san cris...\n",
       "18       venta de departamento 2 ambientes con renta en...\n",
       "19       venta de monoambiente con renta en nunez-descr...\n",
       "20       venta de departamento 4 ambientes en belgrano-...\n",
       "21       venta de departamento  en barrio norte-descrip...\n",
       "22       localventa de local  en centro / microcentro-d...\n",
       "23       localventa de local  en microcentro con renta-...\n",
       "24       localventa de local  en boedo-descripcion:-exc...\n",
       "25       venta de departamento monoambiente en san cris...\n",
       "26       venta de departamento monoambiente en san cris...\n",
       "27       venta de departamento monoambiente en san cris...\n",
       "28       venta de monoambiente con renta en nunez-descr...\n",
       "29       venta de departamento 2 ambientes con renta en...\n",
       "                               ...                        \n",
       "78644    muy buen chalet, desarrollado en 2 plantas, 4 ...\n",
       "78645    espectacular departamento de 3 dormitorios mas...\n",
       "78646    muy linda casa en el barrio san rafael, sobre ...\n",
       "78647    semipiso al frente de 3 ambientes, 2 banos, co...\n",
       "78648    tigre, montevideo 1300 - excelente departament...\n",
       "78649    muy lindo y luminoso departamento.muy buena ub...\n",
       "78650    ruca inmuebles - 011-15- / 011- -  -  casa a e...\n",
       "78651    departamento 96m , bs.as. g.b.a. zona norte, s...\n",
       "78652    casa sobre linea municipal, estar de recepcion...\n",
       "78653    casa tipo cabana, la misma consta de living am...\n",
       "78654    excelente e impecable casa en venta en las lom...\n",
       "78655    edificio proceres | residencialamplio tres amb...\n",
       "78656    departamento de 2 ambientes al frente,  en edi...\n",
       "78657    alem propiedades | roberto celanooficina lomas...\n",
       "78658    edificio proceres | residencialamplio dos ambi...\n",
       "78659    edificio proceres | residencialamplio dos ambi...\n",
       "78660    edificio proceres | residencialamplio dos ambi...\n",
       "78661    monoambiente al frente - consultar pisos dispo...\n",
       "78662    monoambiente al frente - consultar pisos dispo...\n",
       "78663    monoambiente al frente - consultar pisos dispo...\n",
       "78664    monoambiente al frente - consultar pisos dispo...\n",
       "78665    monoambiente al frente - consultar pisos dispo...\n",
       "78666    monoambiente al frente - consultar pisos dispo...\n",
       "78667    ubicacion privilegiada a metros del rio y del ...\n",
       "78668    excelente propiedad con ladrillo al frente.  p...\n",
       "78669    ubicacion privilegiada a metros del rio y del ...\n",
       "78670    ubicacion privilegiada a metros del rio y del ...\n",
       "78671    espectacular oportunidad!!! casa de 4 ambiente...\n",
       "78672    vendo o permuto depto 3 amb. c\\ cochera y c\\ 2...\n",
       "78673    casa en una planta ubicada en el barrio cerrad...\n",
       "Name: description, Length: 78674, dtype: object"
      ]
     },
     "execution_count": 90,
     "metadata": {},
     "output_type": "execute_result"
    }
   ],
   "source": [
    "properati_filtered.description"
   ]
  },
  {
   "cell_type": "code",
   "execution_count": 28,
   "metadata": {
    "scrolled": true
   },
   "outputs": [
    {
     "data": {
      "text/plain": [
       "0                                   sin barrio\n",
       "1                                  san nicolas\n",
       "2                                 constitucion\n",
       "3                                    san telmo\n",
       "4                                 barrio norte\n",
       "5                                         boca\n",
       "6                                        nunez\n",
       "7                                     belgrano\n",
       "8                                puerto madero\n",
       "9                                     floresta\n",
       "11                                     palermo\n",
       "13                                    congreso\n",
       "14                               san cristobal\n",
       "16                                    recoleta\n",
       "23                                   monserrat\n",
       "24                                   caballito\n",
       "32                                   balvanera\n",
       "35                        centro / microcentro\n",
       "45                                 las canitas\n",
       "47                                villa crespo\n",
       "50                               villa urquiza\n",
       "51                                   mataderos\n",
       "57                                      retiro\n",
       "62                                    saavedra\n",
       "67                                       boedo\n",
       "71                                      flores\n",
       "83                            parque patricios\n",
       "96                                    paternal\n",
       "97                                     almagro\n",
       "98                                     coghlan\n",
       "                         ...                  \n",
       "69065                         maquinista savio\n",
       "69504                               el cazador\n",
       "69548                          haras del sur i\n",
       "69669                                  manzone\n",
       "70712                   san diego country club\n",
       "70761                                cuartel v\n",
       "71216              barrio cerrado \"springdale\"\n",
       "71305                               los alamos\n",
       "71415                               terralagos\n",
       "71507                           villa vatteone\n",
       "71546          barrio cerrado \"los alcanfores\"\n",
       "71893    barrio cerrado \"altos de la horqueta\"\n",
       "72340                  barrio cerrado la masia\n",
       "72690                           barrio el moro\n",
       "73510                              san lorenzo\n",
       "74525              barrio cerrado \"villa rosa\"\n",
       "74697                           barrio melazzi\n",
       "74908            barrio cerrado \"isla del sol\"\n",
       "74977                           barrio marinas\n",
       "75596                           william morris\n",
       "75754              barrio privado los olivares\n",
       "76001                                sourigues\n",
       "76577                         villa monteagudo\n",
       "76727                       medal country club\n",
       "76803                            barrio vistas\n",
       "76848               barrio cerrado \"la merced\"\n",
       "76921           barrio cerrado \"la candelaria\"\n",
       "77718              barrio cerrado \"los condes\"\n",
       "77752            barrio cerrado \"la rinconada\"\n",
       "78431       barrio cerrado el casco de alvarez\n",
       "Name: place_name, Length: 523, dtype: object"
      ]
     },
     "execution_count": 28,
     "metadata": {},
     "output_type": "execute_result"
    }
   ],
   "source": [
    "#lista con todos los barrios posibles sin repetir (sin tildes y en minuscula)\n",
    "barrios = properati_filtered[pd.notnull(properati_filtered['place_name'])].place_name\n",
    "barrios = barrios.drop_duplicates(keep='first')\n",
    "barrios = barrios.map(lambda b: eliminar_tildes(b).lower())\n",
    "barrios.replace(\"capital federal\", \"sin barrio\", inplace = True)\n",
    "barrios"
   ]
  },
  {
   "cell_type": "code",
   "execution_count": 91,
   "metadata": {
    "collapsed": true
   },
   "outputs": [],
   "source": [
    "def asignar_barrio(d):\n",
    "    for barrio in barrios:\n",
    "        if(str(d.encode('utf-8')).find(barrio) >= 0):\n",
    "              return barrio\n",
    "    return \"sin barrio\"\n",
    "\n"
   ]
  },
  {
   "cell_type": "code",
   "execution_count": 92,
   "metadata": {},
   "outputs": [],
   "source": [
    "sin_barrio = properati_filtered.loc[properati_filtered.place_name.str.contains(\"Capital Federal\", na=False),:]\n",
    "sin_barrio.place_name = sin_barrio.description.map(lambda d: asignar_barrio(d))\n"
   ]
  },
  {
   "cell_type": "code",
   "execution_count": 93,
   "metadata": {},
   "outputs": [
    {
     "data": {
      "text/plain": [
       "0               sin barrio\n",
       "10              sin barrio\n",
       "46              sin barrio\n",
       "55              sin barrio\n",
       "69              San Isidro\n",
       "77              sin barrio\n",
       "79              sin barrio\n",
       "125                  Pilar\n",
       "126             sin barrio\n",
       "132             sin barrio\n",
       "140             sin barrio\n",
       "143             sin barrio\n",
       "339                 Flores\n",
       "448                   Once\n",
       "449             sin barrio\n",
       "746             sin barrio\n",
       "751             sin barrio\n",
       "752             sin barrio\n",
       "754             sin barrio\n",
       "755             sin barrio\n",
       "756             sin barrio\n",
       "768             sin barrio\n",
       "769             sin barrio\n",
       "777             sin barrio\n",
       "793             sin barrio\n",
       "794             sin barrio\n",
       "795             sin barrio\n",
       "797             sin barrio\n",
       "809             sin barrio\n",
       "813             sin barrio\n",
       "               ...        \n",
       "33868           sin barrio\n",
       "34096           sin barrio\n",
       "34098           sin barrio\n",
       "34102           sin barrio\n",
       "34103           sin barrio\n",
       "34159           sin barrio\n",
       "34249           sin barrio\n",
       "34250           sin barrio\n",
       "34251           sin barrio\n",
       "34252           sin barrio\n",
       "34253           sin barrio\n",
       "34254           San Isidro\n",
       "34277           sin barrio\n",
       "34283    Parque Avellaneda\n",
       "34287    Parque Avellaneda\n",
       "34288    Parque Avellaneda\n",
       "34289    Parque Avellaneda\n",
       "34290    Parque Avellaneda\n",
       "34292    Parque Avellaneda\n",
       "34293    Parque Avellaneda\n",
       "34294    Parque Avellaneda\n",
       "34300           sin barrio\n",
       "34314         Barrio Norte\n",
       "34318           sin barrio\n",
       "34320    Parque Avellaneda\n",
       "34321    Parque Avellaneda\n",
       "34322    Parque Avellaneda\n",
       "34323    Parque Avellaneda\n",
       "34324    Parque Avellaneda\n",
       "34325    Parque Avellaneda\n",
       "Name: place_name, Length: 1154, dtype: object"
      ]
     },
     "execution_count": 93,
     "metadata": {},
     "output_type": "execute_result"
    }
   ],
   "source": [
    "sin_barrio.place_name"
   ]
  },
  {
   "cell_type": "code",
   "execution_count": 94,
   "metadata": {},
   "outputs": [
    {
     "data": {
      "text/plain": [
       "69              San Isidro\n",
       "125                  Pilar\n",
       "339                 Flores\n",
       "448                   Once\n",
       "814               El Talar\n",
       "822         Laguna Del Sol\n",
       "1028              Floresta\n",
       "1084         Puerto Madero\n",
       "1345              Belgrano\n",
       "1479                 Tigre\n",
       "1571              San Juan\n",
       "1572            San Isidro\n",
       "1689            San Martin\n",
       "1714      Parque Chacabuco\n",
       "2475            San Isidro\n",
       "2487        Barrio Cerrado\n",
       "2581            San Isidro\n",
       "2650               Florida\n",
       "2842            Villa Luro\n",
       "3212            San Martin\n",
       "3968               Liniers\n",
       "4007               Caseros\n",
       "4037            San Isidro\n",
       "4038                 Tigre\n",
       "4061               Florida\n",
       "4062       General Pacheco\n",
       "4089               Florida\n",
       "4699                Retiro\n",
       "4703                 Moron\n",
       "4730        Barrio Cerrado\n",
       "               ...        \n",
       "32849              Caseros\n",
       "33006       Barrio Cerrado\n",
       "33007           San Isidro\n",
       "33008                Tigre\n",
       "33158           San Isidro\n",
       "33304         Monte Grande\n",
       "33422       Barrio Cerrado\n",
       "33427             Nordelta\n",
       "33679                 Once\n",
       "33857              Florida\n",
       "33862              Caseros\n",
       "33865           San Isidro\n",
       "33866           San Isidro\n",
       "33867                Tigre\n",
       "34254           San Isidro\n",
       "34283    Parque Avellaneda\n",
       "34287    Parque Avellaneda\n",
       "34288    Parque Avellaneda\n",
       "34289    Parque Avellaneda\n",
       "34290    Parque Avellaneda\n",
       "34292    Parque Avellaneda\n",
       "34293    Parque Avellaneda\n",
       "34294    Parque Avellaneda\n",
       "34314         Barrio Norte\n",
       "34320    Parque Avellaneda\n",
       "34321    Parque Avellaneda\n",
       "34322    Parque Avellaneda\n",
       "34323    Parque Avellaneda\n",
       "34324    Parque Avellaneda\n",
       "34325    Parque Avellaneda\n",
       "Name: place_name, Length: 343, dtype: object"
      ]
     },
     "execution_count": 94,
     "metadata": {},
     "output_type": "execute_result"
    }
   ],
   "source": [
    "barrio_asignado = sin_barrio.loc[sin_barrio.place_name.str.contains(\"sin barrio\", na=False) == False,:]\n",
    "barrio_asignado.place_name"
   ]
  },
  {
   "cell_type": "code",
   "execution_count": 38,
   "metadata": {},
   "outputs": [
    {
     "data": {
      "text/plain": [
       "array([u'country_name', u'created_on', u'currency', u'description',\n",
       "       u'expenses', u'extra', u'floor', u'geonames_id', u'id',\n",
       "       u'image_thumbnail', u'lat', u'lat-lon', u'lon', u'operation',\n",
       "       u'place_name', u'place_with_parent_names', u'price',\n",
       "       u'price_aprox_local_currency', u'price_aprox_usd', u'price_per_m2',\n",
       "       u'price_usd_per_m2', u'properati_url', u'property_type', u'rooms',\n",
       "       u'state_name', u'surface_covered_in_m2', u'surface_in_m2',\n",
       "       u'surface_total_in_m2', u'title'], dtype=object)"
      ]
     },
     "execution_count": 38,
     "metadata": {},
     "output_type": "execute_result"
    }
   ],
   "source": [
    "['country_name','created_on','currency','description',\n",
    "       'expenses','extra','floor', 'geonames_id','id',\n",
    "       'image_thumbnail', 'lat', 'lat-lon', 'lon', 'operation',\n",
    "        'place_with_parent_names', 'price',\n",
    "       'price_aprox_local_currency', 'price_aprox_usd', 'price_per_m2',\n",
    "       'price_usd_per_m2', 'properati_url', 'property_type', 'rooms',\n",
    "       'state_name', 'surface_covered_in_m2', 'surface_in_m2',\n",
    "       'surface_total_in_m2','title']"
   ]
  },
  {
   "cell_type": "code",
   "execution_count": 95,
   "metadata": {
    "collapsed": true
   },
   "outputs": [],
   "source": [
    "properati_barrios = pd.merge(properati_filtered, barrio_asignado,how='outer', on=['country_name','created_on','currency','description',\n",
    "       'expenses','extra','floor', 'geonames_id','id',\n",
    "       'image_thumbnail', 'lat', 'lat-lon', 'lon', 'operation',\n",
    "        'place_with_parent_names', 'price',\n",
    "       'price_aprox_local_currency', 'price_aprox_usd', 'price_per_m2',\n",
    "       'price_usd_per_m2', 'properati_url', 'property_type', 'rooms',\n",
    "       'state_name', 'surface_covered_in_m2', 'surface_in_m2',\n",
    "       'surface_total_in_m2','title'])"
   ]
  },
  {
   "cell_type": "code",
   "execution_count": 96,
   "metadata": {},
   "outputs": [
    {
     "name": "stdout",
     "output_type": "stream",
     "text": [
      "69    Capital Federal\n",
      "Name: place_name_x, dtype: object\n",
      "69    San Isidro\n",
      "Name: place_name_y, dtype: object\n"
     ]
    }
   ],
   "source": [
    "ej_adivinado = properati_barrios.iloc[[69]]\n",
    "print (ej_adivinado.place_name_x)\n",
    "print (ej_adivinado.place_name_y)"
   ]
  },
  {
   "cell_type": "code",
   "execution_count": 115,
   "metadata": {},
   "outputs": [],
   "source": [
    "def get_place_name(data):\n",
    "    places =[]\n",
    "    for index, row in data.iterrows():\n",
    "        if(pd.notnull(row['place_name_y'])):\n",
    "            places.append(row['place_name_y'].title())\n",
    "        else:\n",
    "            if(pd.notnull(row['place_name_x'])):\n",
    "                places.append(row['place_name_x'].title())\n",
    "            else:\n",
    "                places.append(row['place_name_x'])\n",
    "    return places"
   ]
  },
  {
   "cell_type": "code",
   "execution_count": 116,
   "metadata": {},
   "outputs": [],
   "source": [
    "properati_barrios['place_name']= get_place_name(properati_barrios)\n"
   ]
  },
  {
   "cell_type": "code",
   "execution_count": 117,
   "metadata": {},
   "outputs": [
    {
     "name": "stdout",
     "output_type": "stream",
     "text": [
      "69    Capital Federal\n",
      "Name: place_name_x, dtype: object\n",
      "69    San Isidro\n",
      "Name: place_name_y, dtype: object\n",
      "69    San Isidro\n",
      "Name: place_name, dtype: object\n"
     ]
    }
   ],
   "source": [
    "ej = properati_barrios.iloc[[69]]\n",
    "print(ej.place_name_x)\n",
    "print(ej.place_name_y)\n",
    "print(ej.place_name)"
   ]
  },
  {
   "cell_type": "code",
   "execution_count": 118,
   "metadata": {
    "collapsed": true
   },
   "outputs": [],
   "source": [
    "columnas = ['country_name','created_on','currency','description',\n",
    "       'expenses','extra','floor', 'geonames_id','id',\n",
    "       'image_thumbnail', 'lat', 'lat-lon', 'lon', 'operation',\n",
    "       'place_name','place_with_parent_names', 'price',\n",
    "       'price_aprox_local_currency', 'price_aprox_usd', 'price_per_m2',\n",
    "       'price_usd_per_m2', 'properati_url', 'property_type', 'rooms',\n",
    "       'state_name', 'surface_covered_in_m2', 'surface_in_m2',\n",
    "       'surface_total_in_m2','title']\n",
    "properati_barrios=properati_barrios.loc[:,columnas]"
   ]
  },
  {
   "cell_type": "code",
   "execution_count": 122,
   "metadata": {
    "collapsed": true
   },
   "outputs": [],
   "source": [
    "properati_barrios.to_csv(\"properati_filtered_barrios_adivinados.csv\",encoding='utf-8',index=False)"
   ]
  },
  {
   "cell_type": "code",
   "execution_count": 121,
   "metadata": {},
   "outputs": [
    {
     "data": {
      "text/plain": [
       "True"
      ]
     },
     "execution_count": 121,
     "metadata": {},
     "output_type": "execute_result"
    }
   ],
   "source": [
    "properati_barrios.shape == properati_filtered.shape"
   ]
  },
  {
   "cell_type": "code",
   "execution_count": null,
   "metadata": {},
   "outputs": [],
   "source": []
  },
  {
   "cell_type": "code",
   "execution_count": null,
   "metadata": {
    "collapsed": true
   },
   "outputs": [],
   "source": []
  },
  {
   "cell_type": "markdown",
   "metadata": {},
   "source": [
    "# csv con los barrios adivinados para el dataframe de preccion "
   ]
  },
  {
   "cell_type": "code",
   "execution_count": 107,
   "metadata": {
    "collapsed": true
   },
   "outputs": [],
   "source": [
    "columnas_no_price = ['id', 'created_on', 'property_type', 'operation',\n",
    "       'place_with_parent_names', 'country_name', 'state_name',\n",
    "       'lat-lon', 'lat', u'lon', 'surface_total_in_m2',\n",
    "       'surface_covered_in_m2', 'floor', 'rooms', 'expenses',\n",
    "       'description']\n",
    "def adivinar_barrios_df_properati_sin_precios(df, nombre_csv):\n",
    "    df.description = df.description.map(lambda d: unificate_description(d))\n",
    "    sin_barrio = df.loc[df.place_name.str.contains(\"Capital Federal\", na=False),:]\n",
    "    sin_barrio.place_name = sin_barrio.description.map(lambda d: asignar_barrio(d))\n",
    "    barrio_asignado = sin_barrio.loc[sin_barrio.place_name.str.contains(\"sin barrio\", na=False) == False,:]\n",
    "    properati_barrios_no_price = pd.merge(df, barrio_asignado,how='outer', on=columnas_no_price)\n",
    "    properati_barrios_no_price['place_name']= get_place_name(properati_barrios_no_price)\n",
    "    columnas_no_price.append('place_name')\n",
    "    properati_barrios_no_price=properati_barrios_no_price.loc[:,columnas_no_price]\n",
    "    properati_barrios_no_price.to_csv(nombre_csv,encoding='utf-8',index=False)"
   ]
  },
  {
   "cell_type": "code",
   "execution_count": 108,
   "metadata": {
    "collapsed": true
   },
   "outputs": [],
   "source": [
    "properati_no_price = pd.read_csv('../tp1/properati_dataset_testing_noprice.csv',encoding='UTF-8')\n"
   ]
  },
  {
   "cell_type": "code",
   "execution_count": 109,
   "metadata": {},
   "outputs": [],
   "source": [
    "adivinar_barrios_df_properati_sin_precios(properati_no_price, \"properati_barrios_no_price.csv\")"
   ]
  },
  {
   "cell_type": "code",
   "execution_count": 110,
   "metadata": {},
   "outputs": [],
   "source": [
    "#verificar\n",
    "properati_barrios_no_price = pd.read_csv('../tp1/properati_barrios_no_price.csv',encoding='UTF-8')"
   ]
  },
  {
   "cell_type": "code",
   "execution_count": 111,
   "metadata": {},
   "outputs": [
    {
     "data": {
      "text/plain": [
       "True"
      ]
     },
     "execution_count": 111,
     "metadata": {},
     "output_type": "execute_result"
    }
   ],
   "source": [
    "properati_barrios_no_price.shape == properati_no_price.shape\n"
   ]
  },
  {
   "cell_type": "code",
   "execution_count": 112,
   "metadata": {},
   "outputs": [
    {
     "name": "stdout",
     "output_type": "stream",
     "text": [
      "230    Capital Federal\n",
      "Name: place_name, dtype: object\n",
      "230    Palermo\n",
      "Name: place_name, dtype: object\n"
     ]
    }
   ],
   "source": [
    "anterior = properati_no_price.iloc[[230]]\n",
    "actual = properati_barrios_no_price.iloc[[230]]\n",
    "print(anterior.place_name)\n",
    "print(actual.place_name)\n"
   ]
  },
  {
   "cell_type": "code",
   "execution_count": null,
   "metadata": {
    "collapsed": true
   },
   "outputs": [],
   "source": []
  }
 ],
 "metadata": {
  "kernelspec": {
   "display_name": "Python 2",
   "language": "python",
   "name": "python2"
  },
  "language_info": {
   "codemirror_mode": {
    "name": "ipython",
    "version": 2
   },
   "file_extension": ".py",
   "mimetype": "text/x-python",
   "name": "python",
   "nbconvert_exporter": "python",
   "pygments_lexer": "ipython2",
   "version": "2.7.13"
  }
 },
 "nbformat": 4,
 "nbformat_minor": 2
}
