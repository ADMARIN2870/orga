{
 "cells": [
  {
   "cell_type": "code",
   "execution_count": 3,
   "metadata": {
    "collapsed": true
   },
   "outputs": [],
   "source": [
    "import pandas as pd\n",
    "import numpy as np\n",
    "from pandas import Series\n"
   ]
  },
  {
   "cell_type": "code",
   "execution_count": 4,
   "metadata": {
    "collapsed": true
   },
   "outputs": [],
   "source": [
    "import random"
   ]
  },
  {
   "cell_type": "code",
   "execution_count": 5,
   "metadata": {
    "collapsed": true
   },
   "outputs": [],
   "source": [
    "import pyspark_csv as pycsv\n",
    "from pyspark import SparkContext \n",
    "sc = SparkContext.getOrCreate()\n",
    "from pyspark.sql import SQLContext\n",
    "sqlContext = SQLContext(sc)"
   ]
  },
  {
   "cell_type": "markdown",
   "metadata": {},
   "source": [
    "# Distancias"
   ]
  },
  {
   "cell_type": "code",
   "execution_count": 44,
   "metadata": {
    "collapsed": true
   },
   "outputs": [],
   "source": [
    "def get_minkowsky_distance(p):\n",
    "\n",
    "    def minkowsky_distance(v1, v2):\n",
    "        if(len(v1) != len(v2)):\n",
    "            raise ValueError(\"The vectors do not have the same dimention\")\n",
    "        s = 0\n",
    "        for i in range(len(v1)):\n",
    "            s += abs((v1[i]-v2[i])**p)\n",
    "        if(p == 0): return s\n",
    "        return round((s)**(1.0/p),2)\n",
    "    return minkowsky_distance\n",
    "\n",
    "hamming = get_minkowsky_distance(0)\n",
    "manhattan = get_minkowsky_distance(1)\n",
    "euclidean = get_minkowsky_distance(2)"
   ]
  },
  {
   "cell_type": "code",
   "execution_count": 86,
   "metadata": {
    "collapsed": true
   },
   "outputs": [],
   "source": [
    "df= pd.read_csv('../tp1/data_filled_ready_to_train.csv',encoding='UTF-8')"
   ]
  },
  {
   "cell_type": "code",
   "execution_count": 87,
   "metadata": {
    "collapsed": true
   },
   "outputs": [],
   "source": [
    "def split_train_test_sets(df, porcentage):\n",
    "    indices = random.sample(df.index, (int)(df.shape[0]*porcentage))\n",
    "    return df.drop(indices),df.iloc[indices]\n",
    "\n",
    "\n"
   ]
  },
  {
   "cell_type": "code",
   "execution_count": 88,
   "metadata": {
    "collapsed": true
   },
   "outputs": [],
   "source": [
    "train, test = split_train_test_sets(df, 0.33)\n",
    "test = test.loc[:,['created_on','property_type','lat','lon', 'place_name',\n",
    "       'state_name', 'surface_total_in_m2', 'surface_covered_in_m2',\n",
    "       'description', 'floor', 'rooms', 'expenses']]"
   ]
  },
  {
   "cell_type": "code",
   "execution_count": 90,
   "metadata": {
    "collapsed": true
   },
   "outputs": [],
   "source": [
    "#esto tarda\n",
    "X_train_rdd = sqlContext.createDataFrame(train).rdd\n",
    "X_test_rdd = sqlContext.createDataFrame(test).rdd\n"
   ]
  },
  {
   "cell_type": "code",
   "execution_count": 99,
   "metadata": {},
   "outputs": [
    {
     "data": {
      "text/plain": [
       "[Row(created_on=94953600.0, property_type=1, lat=-34.6037137392, lon=-58.3815808896, place_name=430, state_name=3, surface_total_in_m2=52.0, surface_covered_in_m2=52.0, description=20, floor=1.0, rooms=1.0, expenses=10.0, price_aprox_usd=125000.0, price_usd_per_m2=2403.84615385)]"
      ]
     },
     "execution_count": 99,
     "metadata": {},
     "output_type": "execute_result"
    }
   ],
   "source": [
    "X_train_rdd.take(1)"
   ]
  },
  {
   "cell_type": "code",
   "execution_count": null,
   "metadata": {
    "collapsed": true
   },
   "outputs": [],
   "source": [
    "def get_X()\n",
    "\n",
    "def get_nearest_neighbors(x, X_train_rdd):\n",
    "    X_train_rdd.map(lambda neighbor: (neighbor,euclidean(x,neighbor))).sortBy(lambda (neighbor,distance): distance)\n",
    "\n",
    "    \n"
   ]
  },
  {
   "cell_type": "code",
   "execution_count": null,
   "metadata": {
    "collapsed": true
   },
   "outputs": [],
   "source": [
    "nn = X_test_rdd.map(lambda x: get_nearest_neighbors(x,X_train_rdd))"
   ]
  },
  {
   "cell_type": "markdown",
   "metadata": {},
   "source": [
    "# USANDO LA LIBRERIA"
   ]
  },
  {
   "cell_type": "code",
   "execution_count": 229,
   "metadata": {
    "collapsed": true
   },
   "outputs": [],
   "source": [
    "from sklearn.model_selection import train_test_split\n",
    "from sklearn.metrics import mean_squared_error, r2_score\n",
    "from sklearn.neighbors import KNeighborsClassifier\n",
    "from sklearn.linear_model import LinearRegression\n"
   ]
  },
  {
   "cell_type": "code",
   "execution_count": 392,
   "metadata": {},
   "outputs": [
    {
     "data": {
      "text/plain": [
       "54.771294695100003"
      ]
     },
     "execution_count": 392,
     "metadata": {},
     "output_type": "execute_result"
    }
   ],
   "source": [
    "(max(df.price_usd_per_m2)-min(df.price_usd_per_m2))/70"
   ]
  },
  {
   "cell_type": "code",
   "execution_count": 231,
   "metadata": {},
   "outputs": [
    {
     "data": {
      "text/plain": [
       "226.923076923"
      ]
     },
     "execution_count": 231,
     "metadata": {},
     "output_type": "execute_result"
    }
   ],
   "source": [
    "min(df.price_usd_per_m2)"
   ]
  },
  {
   "cell_type": "code",
   "execution_count": 232,
   "metadata": {},
   "outputs": [
    {
     "data": {
      "text/plain": [
       "693"
      ]
     },
     "execution_count": 232,
     "metadata": {},
     "output_type": "execute_result"
    }
   ],
   "source": [
    "int((3000.89-226)/4)"
   ]
  },
  {
   "cell_type": "code",
   "execution_count": 357,
   "metadata": {},
   "outputs": [],
   "source": [
    "df= pd.read_csv('../tp1/data_filled_ready_to_train.csv',encoding='UTF-8')\n",
    "df['bin'] = df.price_usd_per_m2.map(lambda value: int((value-226)/50) )\n"
   ]
  },
  {
   "cell_type": "code",
   "execution_count": 393,
   "metadata": {},
   "outputs": [],
   "source": [
    "X = df.loc[:,['created_on','property_type','lat','lon', 'place_name',\n",
    "       'state_name', 'surface_total_in_m2', 'surface_covered_in_m2',\n",
    "       'description', 'floor', 'rooms', 'expenses']]\n",
    "y = df.bin\n",
    "X_train, X_test, y_train, y_test = train_test_split(X, y, test_size=0.10, random_state=42)\n"
   ]
  },
  {
   "cell_type": "code",
   "execution_count": 394,
   "metadata": {
    "collapsed": true
   },
   "outputs": [],
   "source": [
    "neigh = KNeighborsClassifier(n_neighbors=3)\n",
    "neigh.fit(X_train, y_train) \n",
    "predictions = neigh.predict(X_test)\n"
   ]
  },
  {
   "cell_type": "code",
   "execution_count": 395,
   "metadata": {},
   "outputs": [
    {
     "name": "stdout",
     "output_type": "stream",
     "text": [
      "Mean squared error: 272.07\n"
     ]
    }
   ],
   "source": [
    "# el error cuadratico medio\n",
    "print(\"Mean squared error: %.2f\" % mean_squared_error(y_test, predictions))"
   ]
  },
  {
   "cell_type": "code",
   "execution_count": 396,
   "metadata": {},
   "outputs": [
    {
     "data": {
      "text/plain": [
       "inf"
      ]
     },
     "execution_count": 396,
     "metadata": {},
     "output_type": "execute_result"
    }
   ],
   "source": [
    "porcent =100*abs((predictions-y_test))/y_test\n",
    "porcent.mean()"
   ]
  },
  {
   "cell_type": "code",
   "execution_count": null,
   "metadata": {
    "collapsed": true
   },
   "outputs": [],
   "source": []
  },
  {
   "cell_type": "code",
   "execution_count": null,
   "metadata": {
    "collapsed": true
   },
   "outputs": [],
   "source": []
  },
  {
   "cell_type": "code",
   "execution_count": 397,
   "metadata": {
    "collapsed": true
   },
   "outputs": [],
   "source": [
    "df_to_predict= pd.read_csv('../tp1/data_filled_ready_to_predict.csv',encoding='UTF-8')"
   ]
  },
  {
   "cell_type": "code",
   "execution_count": 398,
   "metadata": {},
   "outputs": [],
   "source": [
    "neigh = KNeighborsClassifier(n_neighbors=3)\n",
    "neigh.fit(X.loc[:,['lat','lon']],  df['bin']) \n",
    "predictions = neigh.predict(df_to_predict.loc[:,['lat','lon']])"
   ]
  },
  {
   "cell_type": "code",
   "execution_count": 399,
   "metadata": {},
   "outputs": [],
   "source": [
    "df_to_predict['bin'] = predictions\n",
    "properati_no_price= pd.read_csv('../tp1/properati_dataset_testing_noprice.csv',encoding='UTF-8')\n",
    "df_to_predict['id']=properati_no_price.id"
   ]
  },
  {
   "cell_type": "code",
   "execution_count": null,
   "metadata": {
    "collapsed": true
   },
   "outputs": [],
   "source": []
  },
  {
   "cell_type": "code",
   "execution_count": null,
   "metadata": {
    "collapsed": true
   },
   "outputs": [],
   "source": []
  },
  {
   "cell_type": "code",
   "execution_count": null,
   "metadata": {
    "collapsed": true
   },
   "outputs": [],
   "source": []
  },
  {
   "cell_type": "code",
   "execution_count": 424,
   "metadata": {
    "collapsed": true
   },
   "outputs": [],
   "source": [
    "def linear_regression(df_to_predict, X_train, y_train):\n",
    "    regr = LinearRegression()\n",
    "    regr.fit(X_train, y_train)\n",
    "    y_price_usd_predicted = regr.predict(df_to_predict)\n",
    "    return y_price_usd_predicted"
   ]
  },
  {
   "cell_type": "code",
   "execution_count": 426,
   "metadata": {},
   "outputs": [
    {
     "name": "stdout",
     "output_type": "stream",
     "text": [
      "3\n",
      "43\n",
      "17\n",
      "26\n"
     ]
    },
    {
     "name": "stderr",
     "output_type": "stream",
     "text": [
      "/home/jaz/fiuba/orga-de-datos-7506/lib/python2.7/site-packages/ipykernel_launcher.py:8: SettingWithCopyWarning: \n",
      "A value is trying to be set on a copy of a slice from a DataFrame.\n",
      "Try using .loc[row_indexer,col_indexer] = value instead\n",
      "\n",
      "See the caveats in the documentation: http://pandas.pydata.org/pandas-docs/stable/indexing.html#indexing-view-versus-copy\n",
      "  \n"
     ]
    },
    {
     "name": "stdout",
     "output_type": "stream",
     "text": [
      "35\n",
      "14\n",
      "47\n",
      "74\n",
      "32\n",
      "8\n",
      "56\n",
      "54\n",
      "39\n",
      "37\n",
      "46\n",
      "42\n",
      "36\n",
      "59\n",
      "22\n",
      "28\n",
      "10\n",
      "41\n",
      "38\n",
      "21\n",
      "62\n",
      "31\n",
      "70\n",
      "71\n",
      "6\n",
      "29\n",
      "25\n",
      "30\n",
      "15\n",
      "57\n",
      "20\n",
      "53\n",
      "40\n",
      "5\n",
      "49\n",
      "48\n",
      "45\n",
      "58\n",
      "50\n",
      "11\n",
      "12\n",
      "23\n",
      "52\n",
      "18\n",
      "27\n",
      "24\n",
      "44\n",
      "60\n",
      "13\n",
      "9\n",
      "64\n",
      "19\n",
      "75\n",
      "51\n",
      "34\n",
      "65\n",
      "55\n",
      "63\n",
      "2\n",
      "0\n",
      "1\n",
      "7\n",
      "4\n",
      "16\n",
      "76\n",
      "67\n",
      "33\n",
      "72\n",
      "73\n",
      "69\n",
      "68\n",
      "66\n",
      "61\n"
     ]
    }
   ],
   "source": [
    "\n",
    "\n",
    "r = pd.DataFrame()\n",
    "for b in bins:\n",
    "    print b\n",
    "    df_bin = df_to_predict.loc[df_to_predict.bin == b,:]\n",
    "    x = df.loc[df.bin == b,:]\n",
    "    df_bin['price_usd']  = linear_regression(df_bin.loc[:,columns], x.loc[:,columns], x.price_aprox_usd)\n",
    "    \n",
    "    \n",
    "    ready_df= df_bin.loc[:,['id','price_usd']]\n",
    "    r = pd.concat([r,ready_df])\n"
   ]
  },
  {
   "cell_type": "code",
   "execution_count": 430,
   "metadata": {},
   "outputs": [],
   "source": [
    "r.price_usd = r.price_usd.map(lambda v: int(v))"
   ]
  },
  {
   "cell_type": "code",
   "execution_count": 431,
   "metadata": {
    "collapsed": true
   },
   "outputs": [],
   "source": [
    "prediccion1= pd.read_csv('../tp1/prediccion1.csv',encoding='UTF-8')"
   ]
  },
  {
   "cell_type": "code",
   "execution_count": 435,
   "metadata": {
    "collapsed": true
   },
   "outputs": [],
   "source": [
    "r.to_csv(\"prediccion2.csv\",encoding='utf-8',index=False)"
   ]
  },
  {
   "cell_type": "code",
   "execution_count": 436,
   "metadata": {},
   "outputs": [
    {
     "data": {
      "text/plain": [
       "(14166, 2)"
      ]
     },
     "execution_count": 436,
     "metadata": {},
     "output_type": "execute_result"
    }
   ],
   "source": [
    "r.shape"
   ]
  },
  {
   "cell_type": "code",
   "execution_count": null,
   "metadata": {
    "collapsed": true
   },
   "outputs": [],
   "source": []
  }
 ],
 "metadata": {
  "kernelspec": {
   "display_name": "Python 2",
   "language": "python",
   "name": "python2"
  },
  "language_info": {
   "codemirror_mode": {
    "name": "ipython",
    "version": 2
   },
   "file_extension": ".py",
   "mimetype": "text/x-python",
   "name": "python",
   "nbconvert_exporter": "python",
   "pygments_lexer": "ipython2",
   "version": "2.7.13"
  }
 },
 "nbformat": 4,
 "nbformat_minor": 2
}
